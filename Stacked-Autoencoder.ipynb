{
 "cells": [
  {
   "cell_type": "markdown",
   "metadata": {},
   "source": [
    "# Stacked Autoencoder"
   ]
  },
  {
   "cell_type": "code",
   "execution_count": 1,
   "metadata": {},
   "outputs": [],
   "source": [
    "import numpy as np\n",
    "import tensorflow as tf"
   ]
  },
  {
   "cell_type": "code",
   "execution_count": 2,
   "metadata": {},
   "outputs": [],
   "source": [
    "import matplotlib.pyplot as plt\n",
    "%matplotlib inline"
   ]
  },
  {
   "cell_type": "code",
   "execution_count": 5,
   "metadata": {},
   "outputs": [
    {
     "name": "stdout",
     "output_type": "stream",
     "text": [
      "Extracting ../03-Convolutional-Neural-Networks/MNIST_data/train-images-idx3-ubyte.gz\n",
      "Extracting ../03-Convolutional-Neural-Networks/MNIST_data/train-labels-idx1-ubyte.gz\n",
      "Extracting ../03-Convolutional-Neural-Networks/MNIST_data/t10k-images-idx3-ubyte.gz\n",
      "Extracting ../03-Convolutional-Neural-Networks/MNIST_data/t10k-labels-idx1-ubyte.gz\n"
     ]
    }
   ],
   "source": [
    "from tensorflow.examples.tutorials.mnist import input_data\n",
    "mnist = input_data.read_data_sets(\"../03-Convolutional-Neural-Networks/MNIST_data/\",one_hot=True)"
   ]
  },
  {
   "cell_type": "markdown",
   "metadata": {},
   "source": [
    "## Define Network"
   ]
  },
  {
   "cell_type": "code",
   "execution_count": 39,
   "metadata": {},
   "outputs": [],
   "source": [
    "num_input   = 784 \n",
    "num_hidden1 = 392\n",
    "num_hidden2 = 196\n",
    "num_hidden3 = 392 \n",
    "num_output  = 784"
   ]
  },
  {
   "cell_type": "code",
   "execution_count": 40,
   "metadata": {},
   "outputs": [],
   "source": [
    "# initialize the normal distribution \n",
    "initializer = tf.variance_scaling_initializer(distribution='normal')\n",
    "\n",
    "# define the weights for each layer\n",
    "w1 = tf.Variable(initializer([  num_input, num_hidden1]), dtype=tf.float32)\n",
    "w2 = tf.Variable(initializer([num_hidden1, num_hidden2]), dtype=tf.float32)\n",
    "w3 = tf.Variable(initializer([num_hidden2, num_hidden3]), dtype=tf.float32)\n",
    "w4 = tf.Variable(initializer([num_hidden3,  num_output]), dtype=tf.float32)"
   ]
  },
  {
   "cell_type": "code",
   "execution_count": 41,
   "metadata": {},
   "outputs": [],
   "source": [
    "# define the biases for each layer\n",
    "b1 = tf.Variable(tf.zeros(num_hidden1))\n",
    "b2 = tf.Variable(tf.zeros(num_hidden2))\n",
    "b3 = tf.Variable(tf.zeros(num_hidden3))\n",
    "b4 = tf.Variable(tf.zeros(num_output))"
   ]
  },
  {
   "cell_type": "code",
   "execution_count": 42,
   "metadata": {},
   "outputs": [],
   "source": [
    "# input data\n",
    "input_layer = tf.placeholder(tf.float32, shape=[None, num_input])"
   ]
  },
  {
   "cell_type": "code",
   "execution_count": 43,
   "metadata": {},
   "outputs": [],
   "source": [
    "hidden_layer1 = tf.nn.relu(tf.matmul(input_layer,   w1) + b1)  # Hidden Layer 1\n",
    "hidden_layer2 = tf.nn.relu(tf.matmul(hidden_layer1, w2) + b2)  # Hidden Layer 2\n",
    "hidden_layer3 = tf.nn.relu(tf.matmul(hidden_layer2, w3) + b3)  # Hidden Layer 3"
   ]
  },
  {
   "cell_type": "code",
   "execution_count": 44,
   "metadata": {},
   "outputs": [],
   "source": [
    "# output layer\n",
    "output_layer  = tf.matmul(hidden_layer3, w4) + b4"
   ]
  },
  {
   "cell_type": "code",
   "execution_count": 45,
   "metadata": {},
   "outputs": [],
   "source": [
    "# defining loss function (Mean Squared Error)\n",
    "loss = tf.reduce_mean(tf.square(output_layer - input_layer))"
   ]
  },
  {
   "cell_type": "code",
   "execution_count": 46,
   "metadata": {},
   "outputs": [],
   "source": [
    "# learning rate\n",
    "learning_rate = 0.01\n",
    "\n",
    "# define the optimizer\n",
    "optimizer = tf.train.AdamOptimizer(learning_rate).minimize(loss)"
   ]
  },
  {
   "cell_type": "markdown",
   "metadata": {},
   "source": [
    "## Running the Session"
   ]
  },
  {
   "cell_type": "code",
   "execution_count": 55,
   "metadata": {},
   "outputs": [
    {
     "name": "stdout",
     "output_type": "stream",
     "text": [
      "Epoch 9/10 Complete. Training Loss: 0.025100313127040863 \r"
     ]
    }
   ],
   "source": [
    "num_epochs = 10\n",
    "batch_size = 150\n",
    "\n",
    "# initialize session\n",
    "with tf.Session() as sess:\n",
    "    \n",
    "    # initialize variables\n",
    "    sess.run(tf.global_variables_initializer())\n",
    "    \n",
    "    # train the model\n",
    "    for epoch in range(num_epochs):\n",
    "        \n",
    "        num_batches = mnist.train.num_examples // batch_size\n",
    "        \n",
    "        # 150 batch size\n",
    "        for iteration in range(num_batches):\n",
    "            \n",
    "            X_batch, y_batch = mnist.train.next_batch(batch_size)\n",
    "            \n",
    "            sess.run(optimizer, feed_dict = {input_layer : X_batch})\n",
    "        \n",
    "        # calculate overall loss\n",
    "        training_loss = loss.eval(feed_dict = {input_layer: X_batch})   \n",
    "        \n",
    "        print(\"Epoch {}/10 Complete. Training Loss: {} \\r\".format(epoch+1,training_loss),end='')\n",
    "     \n",
    "    results = output_layer.eval(feed_dict = {input_layer : mnist.test.images[ :5]})     "
   ]
  },
  {
   "cell_type": "markdown",
   "metadata": {},
   "source": [
    "## Result"
   ]
  },
  {
   "cell_type": "code",
   "execution_count": 59,
   "metadata": {},
   "outputs": [
    {
     "data": {
      "image/png": "[encoded data removed]",
      "text/plain": [
       "<Figure size 720x288 with 10 Axes>"
      ]
     },
     "metadata": {},
     "output_type": "display_data"
    }
   ],
   "source": [
    "# Compare original images with their reconstructions\n",
    "f, a = plt.subplots(2, 5, figsize=(10, 4))\n",
    "for i in range(5):\n",
    "    a[0][i].imshow(np.reshape(mnist.test.images[i], (28, 28)))\n",
    "    a[1][i].imshow(np.reshape(results[i], (28, 28)))"
   ]
  }
 ],
 "metadata": {
  "anaconda-cloud": {},
  "kernelspec": {
   "display_name": "Python 3",
   "language": "python",
   "name": "python3"
  },
  "language_info": {
   "codemirror_mode": {
    "name": "ipython",
    "version": 3
   },
   "file_extension": ".py",
   "mimetype": "text/x-python",
   "name": "python",
   "nbconvert_exporter": "python",
   "pygments_lexer": "ipython3",
   "version": "3.6.6"
  }
 },
 "nbformat": 4,
 "nbformat_minor": 2
}
